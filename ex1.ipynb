{
 "cells": [
  {
   "cell_type": "code",
   "execution_count": 4,
   "metadata": {},
   "outputs": [
    {
     "name": "stdout",
     "output_type": "stream",
     "text": [
      "DataFrame:\n",
      "   Teor Alcoólico Acidez   pH\n",
      "0               3  muito  4.3\n",
      "1               4  pouco  2.8\n",
      "2               5  médio  4.2\n",
      "3               6  baixo  3.9\n"
     ]
    }
   ],
   "source": [
    "import numpy as np\n",
    "import pandas as pd\n",
    "from sklearn.cluster import KMeans\n",
    "\n",
    "dados = {\n",
    "    'Teor Alcoólico': [3, 4, 5, 6],\n",
    "    'Acidez': ['muito', 'pouco', 'médio', 'baixo'],\n",
    "    'pH': [4.3, 2.8, 4.2, 3.9]\n",
    "}\n",
    "\n",
    "df = pd.DataFrame(dados)\n",
    "print(\"DataFrame:\")\n",
    "print(df)\n"
   ]
  },
  {
   "cell_type": "code",
   "execution_count": 5,
   "metadata": {},
   "outputs": [
    {
     "name": "stdout",
     "output_type": "stream",
     "text": [
      "\n",
      "Matriz de Dados:\n",
      "[[3.  4.3]\n",
      " [4.  2.8]\n",
      " [5.  4.2]\n",
      " [6.  3.9]]\n",
      "\n",
      "DataFrame com Clusters:\n",
      "   Teor Alcoólico Acidez   pH  Cluster\n",
      "0               3  muito  4.3        0\n",
      "1               4  pouco  2.8        0\n",
      "2               5  médio  4.2        1\n",
      "3               6  baixo  3.9        1\n"
     ]
    },
    {
     "name": "stderr",
     "output_type": "stream",
     "text": [
      "c:\\Users\\dsadm\\AppData\\Local\\Programs\\Python\\Python311\\Lib\\site-packages\\sklearn\\cluster\\_kmeans.py:1412: FutureWarning: The default value of `n_init` will change from 10 to 'auto' in 1.4. Set the value of `n_init` explicitly to suppress the warning\n",
      "  super()._check_params_vs_input(X, default_n_init=10)\n"
     ]
    }
   ],
   "source": [
    "matriz_dados = df[['Teor Alcoólico', 'pH']].to_numpy()\n",
    "print(\"\\nMatriz de Dados:\")\n",
    "print(matriz_dados)\n",
    "\n",
    "kmeans = KMeans(n_clusters=2, random_state=42)\n",
    "df['Cluster'] = kmeans.fit_predict(matriz_dados)\n",
    "\n",
    "print(\"\\nDataFrame com Clusters:\")\n",
    "print(df)"
   ]
  }
 ],
 "metadata": {
  "kernelspec": {
   "display_name": "Python 3",
   "language": "python",
   "name": "python3"
  },
  "language_info": {
   "codemirror_mode": {
    "name": "ipython",
    "version": 3
   },
   "file_extension": ".py",
   "mimetype": "text/x-python",
   "name": "python",
   "nbconvert_exporter": "python",
   "pygments_lexer": "ipython3",
   "version": "3.11.2"
  }
 },
 "nbformat": 4,
 "nbformat_minor": 2
}
